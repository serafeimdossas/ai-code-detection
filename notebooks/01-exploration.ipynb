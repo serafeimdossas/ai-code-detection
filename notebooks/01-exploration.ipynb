{
 "cells": [
  {
   "cell_type": "code",
   "execution_count": 6,
   "id": "1b8da4ea",
   "metadata": {},
   "outputs": [],
   "source": [
    "# Cell 1: Imports and paths\n",
    "import pandas as pd\n",
    "import matplotlib.pyplot as plt\n",
    "from pathlib import Path\n",
    "\n",
    "data_dir = Path(\"/var/www/playground/AI-Code-Detection/data/raw/H-AIRosettaMP\")\n",
    "train_path = data_dir / \"train.csv\"\n",
    "val_path   = data_dir / \"validation.csv\"\n",
    "test_path  = data_dir / \"test.csv\"\n"
   ]
  },
  {
   "cell_type": "code",
   "execution_count": 7,
   "id": "f6364add",
   "metadata": {},
   "outputs": [
    {
     "name": "stdout",
     "output_type": "stream",
     "text": [
      "Train shape: (11126, 7)\n",
      "Validation shape: (1237, 7)\n",
      "Test shape: (1374, 7)\n"
     ]
    }
   ],
   "source": [
    "# Cell 2: Load the splits\n",
    "df_train = pd.read_csv(train_path)\n",
    "df_val   = pd.read_csv(val_path)\n",
    "df_test  = pd.read_csv(test_path)\n",
    "\n",
    "print(\"Train shape:\", df_train.shape)\n",
    "print(\"Validation shape:\", df_val.shape)\n",
    "print(\"Test shape:\", df_test.shape)\n"
   ]
  },
  {
   "cell_type": "code",
   "execution_count": 8,
   "id": "aa477f20",
   "metadata": {},
   "outputs": [
    {
     "data": {
      "text/html": [
       "<div>\n",
       "<style scoped>\n",
       "    .dataframe tbody tr th:only-of-type {\n",
       "        vertical-align: middle;\n",
       "    }\n",
       "\n",
       "    .dataframe tbody tr th {\n",
       "        vertical-align: top;\n",
       "    }\n",
       "\n",
       "    .dataframe thead th {\n",
       "        text-align: right;\n",
       "    }\n",
       "</style>\n",
       "<table border=\"1\" class=\"dataframe\">\n",
       "  <thead>\n",
       "    <tr style=\"text-align: right;\">\n",
       "      <th></th>\n",
       "      <th>task_url</th>\n",
       "      <th>task_name</th>\n",
       "      <th>task_description</th>\n",
       "      <th>language_name</th>\n",
       "      <th>code</th>\n",
       "      <th>target</th>\n",
       "      <th>set</th>\n",
       "    </tr>\n",
       "  </thead>\n",
       "  <tbody>\n",
       "    <tr>\n",
       "      <th>0</th>\n",
       "      <td>http://rosettacode.org/wiki/Program_name</td>\n",
       "      <td>Program name</td>\n",
       "      <td>The task is to programmatically obtain the nam...</td>\n",
       "      <td>Python</td>\n",
       "      <td>import sys\\n \\nprint(\"Program:\", sys.argv[0])</td>\n",
       "      <td>Ai_generated</td>\n",
       "      <td>Python_from_Go</td>\n",
       "    </tr>\n",
       "    <tr>\n",
       "      <th>1</th>\n",
       "      <td>http://rosettacode.org/wiki/Active_Directory/S...</td>\n",
       "      <td>Active Directory/Search for a user</td>\n",
       "      <td>Make sure you Connect to Active Directory\\n</td>\n",
       "      <td>Python</td>\n",
       "      <td>import sys\\nimport traceback\\nfrom ldap3 impor...</td>\n",
       "      <td>Ai_generated</td>\n",
       "      <td>Python_from_Java</td>\n",
       "    </tr>\n",
       "    <tr>\n",
       "      <th>2</th>\n",
       "      <td>http://rosettacode.org/wiki/Command-line_argum...</td>\n",
       "      <td>Command-line arguments</td>\n",
       "      <td>Command-line arguments is part of Short Circui...</td>\n",
       "      <td>Python</td>\n",
       "      <td>import sys\\nprogram_name = sys.argv[0]\\nargume...</td>\n",
       "      <td>Human_written</td>\n",
       "      <td>Python_from_Ruby</td>\n",
       "    </tr>\n",
       "    <tr>\n",
       "      <th>3</th>\n",
       "      <td>http://rosettacode.org/wiki/Read_a_specific_li...</td>\n",
       "      <td>Read a specific line from a file</td>\n",
       "      <td>Some languages have special semantics for obta...</td>\n",
       "      <td>Python</td>\n",
       "      <td>with open('xxx.txt') as f:\\n    for i, line in...</td>\n",
       "      <td>Human_written</td>\n",
       "      <td>Python_from_C++</td>\n",
       "    </tr>\n",
       "    <tr>\n",
       "      <th>4</th>\n",
       "      <td>http://rosettacode.org/wiki/Pi</td>\n",
       "      <td>Pi</td>\n",
       "      <td>\\nCreate a program to continually calculate an...</td>\n",
       "      <td>Python</td>\n",
       "      <td>def calcPi():\\n    q, r, t, k, n, l = 1, 0, 1,...</td>\n",
       "      <td>Human_written</td>\n",
       "      <td>Python_from_Rust</td>\n",
       "    </tr>\n",
       "  </tbody>\n",
       "</table>\n",
       "</div>"
      ],
      "text/plain": [
       "                                            task_url  \\\n",
       "0           http://rosettacode.org/wiki/Program_name   \n",
       "1  http://rosettacode.org/wiki/Active_Directory/S...   \n",
       "2  http://rosettacode.org/wiki/Command-line_argum...   \n",
       "3  http://rosettacode.org/wiki/Read_a_specific_li...   \n",
       "4                     http://rosettacode.org/wiki/Pi   \n",
       "\n",
       "                            task_name  \\\n",
       "0                        Program name   \n",
       "1  Active Directory/Search for a user   \n",
       "2              Command-line arguments   \n",
       "3    Read a specific line from a file   \n",
       "4                                  Pi   \n",
       "\n",
       "                                    task_description language_name  \\\n",
       "0  The task is to programmatically obtain the nam...        Python   \n",
       "1        Make sure you Connect to Active Directory\\n        Python   \n",
       "2  Command-line arguments is part of Short Circui...        Python   \n",
       "3  Some languages have special semantics for obta...        Python   \n",
       "4  \\nCreate a program to continually calculate an...        Python   \n",
       "\n",
       "                                                code         target  \\\n",
       "0      import sys\\n \\nprint(\"Program:\", sys.argv[0])   Ai_generated   \n",
       "1  import sys\\nimport traceback\\nfrom ldap3 impor...   Ai_generated   \n",
       "2  import sys\\nprogram_name = sys.argv[0]\\nargume...  Human_written   \n",
       "3  with open('xxx.txt') as f:\\n    for i, line in...  Human_written   \n",
       "4  def calcPi():\\n    q, r, t, k, n, l = 1, 0, 1,...  Human_written   \n",
       "\n",
       "                set  \n",
       "0    Python_from_Go  \n",
       "1  Python_from_Java  \n",
       "2  Python_from_Ruby  \n",
       "3   Python_from_C++  \n",
       "4  Python_from_Rust  "
      ]
     },
     "execution_count": 8,
     "metadata": {},
     "output_type": "execute_result"
    }
   ],
   "source": [
    "# Cell 3: Peek at the columns & a few rows\n",
    "df_train.head(5)\n"
   ]
  },
  {
   "cell_type": "code",
   "execution_count": 10,
   "id": "2dc224ae",
   "metadata": {},
   "outputs": [
    {
     "name": "stdout",
     "output_type": "stream",
     "text": [
      "target\n",
      "Human_written    5574\n",
      "Ai_generated     5552\n",
      "Name: count, dtype: int64\n"
     ]
    },
    {
     "data": {
      "image/png": "[encoded data removed]",
      "text/plain": [
       "<Figure size 640x480 with 1 Axes>"
      ]
     },
     "metadata": {},
     "output_type": "display_data"
    }
   ],
   "source": [
    "# Cell 4: Check class balance\n",
    "# (assuming your label column is named 'target' with values 0/1 or 'Ai_generated'/'Human_written')\n",
    "print(df_train['target'].value_counts())\n",
    "df_train['target'].value_counts().plot(kind='bar')\n",
    "plt.title(\"Train set class distribution\")\n",
    "plt.xlabel(\"Class\")\n",
    "plt.ylabel(\"Count\")\n",
    "plt.show()\n"
   ]
  },
  {
   "cell_type": "code",
   "execution_count": 11,
   "id": "4948fc44",
   "metadata": {},
   "outputs": [
    {
     "data": {
      "image/png": "[encoded data removed]",
      "text/plain": [
       "<Figure size 640x480 with 1 Axes>"
      ]
     },
     "metadata": {},
     "output_type": "display_data"
    }
   ],
   "source": [
    "# Cell 5: Snippet length distribution\n",
    "# First, define a length metric (e.g., number of characters or tokens)\n",
    "df_train['char_len'] = df_train['code'].str.len()\n",
    "df_train['char_len'].hist(bins=50)\n",
    "plt.title(\"Training Snippet Length (chars)\")\n",
    "plt.xlabel(\"Length\")\n",
    "plt.ylabel(\"Count\")\n",
    "plt.show()\n"
   ]
  },
  {
   "cell_type": "code",
   "execution_count": 12,
   "id": "f9490acc",
   "metadata": {},
   "outputs": [
    {
     "name": "stdout",
     "output_type": "stream",
     "text": [
      "Shortest snippet:\n",
      " 0/0\n",
      "\n",
      "Longest snippet:\n",
      " \"\"\"\n",
      " \n",
      "Input and output are assumed to be in this form based on the talk\n",
      "page for the task:\n",
      " \n",
      "input_points = [\n",
      "  [-1.0,  1.0,  1.0],\n",
      "  [-1.0, -1.0,  1.0],\n",
      "  [ 1.0, -1.0,  1.0],\n",
      "  [ 1.0,  1.0,  1.0],\n",
      "  [ 1.0, -1.0, -1.0],\n",
      "  [ 1.0,  1.0, -1.0],\n",
      "  [-1.0, -1.0, -1.0],\n",
      "  [-1.0,  1.0, -1.0]\n",
      "]\n",
      " \n",
      "input_faces …\n"
     ]
    }
   ],
   "source": [
    "# Cell 6: Sample very short / very long snippets\n",
    "print(\"Shortest snippet:\\n\", df_train.loc[df_train['char_len'].idxmin(), 'code'])\n",
    "print(\"\\nLongest snippet:\\n\", df_train.loc[df_train['char_len'].idxmax(), 'code'][:300], \"…\")\n"
   ]
  }
 ],
 "metadata": {
  "kernelspec": {
   "display_name": "venv",
   "language": "python",
   "name": "python3"
  },
  "language_info": {
   "codemirror_mode": {
    "name": "ipython",
    "version": 3
   },
   "file_extension": ".py",
   "mimetype": "text/x-python",
   "name": "python",
   "nbconvert_exporter": "python",
   "pygments_lexer": "ipython3",
   "version": "3.12.3"
  }
 },
 "nbformat": 4,
 "nbformat_minor": 5
}
